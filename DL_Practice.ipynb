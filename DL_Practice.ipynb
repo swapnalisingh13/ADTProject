{
  "nbformat": 4,
  "nbformat_minor": 0,
  "metadata": {
    "colab": {
      "provenance": [],
      "authorship_tag": "ABX9TyNarP7TP6mU11JUCy5Xq66x",
      "include_colab_link": true
    },
    "kernelspec": {
      "name": "python3",
      "display_name": "Python 3"
    },
    "language_info": {
      "name": "python"
    }
  },
  "cells": [
    {
      "cell_type": "markdown",
      "metadata": {
        "id": "view-in-github",
        "colab_type": "text"
      },
      "source": [
        "<a href=\"https://colab.research.google.com/github/swapnalisingh13/ADTProject/blob/main/DL_Practice.ipynb\" target=\"_parent\"><img src=\"https://colab.research.google.com/assets/colab-badge.svg\" alt=\"Open In Colab\"/></a>"
      ]
    },
    {
      "cell_type": "code",
      "execution_count": 8,
      "metadata": {
        "colab": {
          "base_uri": "https://localhost:8080/"
        },
        "id": "dCdxcjpbhPev",
        "outputId": "1b642fae-bf8c-46d0-d36c-d73b3281ad8b"
      },
      "outputs": [
        {
          "output_type": "stream",
          "name": "stdout",
          "text": [
            "Iteration  1  Predicted Output =  0.5 , Loss =  0.125\n",
            "Iteration  2  Predicted Output =  0.5051358930736018 , Loss =  0.12244524216203082\n",
            "Final weights: 1.012495623845507\n",
            "Final bias: -0.4751297026495738\n"
          ]
        }
      ],
      "source": [
        "import numpy as np\n",
        "\n",
        "# Sigmoid function\n",
        "def sigmoid(x):\n",
        "    return 1 / (1 + np.exp(-x))\n",
        "\n",
        "# derivative\n",
        "def sigmoid_derivative(x):\n",
        "    return x * (1 - x)\n",
        "\n",
        "# wts, bias and learning rate\n",
        "w = 1\n",
        "b = -0.5\n",
        "A = 0.1\n",
        "\n",
        "# given Input and expected target output\n",
        "x = 0.5\n",
        "y = 1\n",
        "\n",
        "i = 2\n",
        "for iter in range(i):\n",
        "    # Forward pass\n",
        "    z1 = w * x + b\n",
        "    a1 = sigmoid(z1)\n",
        "\n",
        "    z2 = w * a1 + b\n",
        "    a2 = sigmoid(z2)\n",
        "\n",
        "    z3 = w * a2 + b\n",
        "    y_pred = sigmoid(z3)\n",
        "\n",
        "    # loss\n",
        "    loss = 0.5 * (y - y_pred) ** 2\n",
        "\n",
        "    # Backpropagation\n",
        "    delta3 = (y_pred - y) * sigmoid_derivative(y_pred)\n",
        "\n",
        "    w -= A * delta3 * a2\n",
        "    b -= A * delta3\n",
        "\n",
        "    print(\"Iteration \",iter + 1,\" Predicted Output = \",y_pred,\", Loss = \",loss)\n",
        "\n",
        "print(\"Final weights:\", w)\n",
        "print(\"Final bias:\", b)\n"
      ]
    },
    {
      "cell_type": "code",
      "source": [
        "import numpy as np\n",
        "#input vector and bias\n",
        "iv = np.array([1, 2, 2, 1])\n",
        "b = 0\n",
        "W = np.array([0.25, 0.25, 0.25, 0.25])\n",
        "res = 2\n",
        "output = np.dot(iv, W) + b\n",
        "mse_loss = 0.5 * (output - res) ** 2\n",
        "\n",
        "l1_penalty = np.sum(np.abs(W))\n",
        "l2_penalty = 0.5 * np.sum(W ** 2)\n",
        "alpha = 0.5\n",
        "enet_penalty = alpha * l1_penalty + (1 - alpha) * l2_penalty\n",
        "\n",
        "tl1 = mse_loss + l1_penalty\n",
        "tl2 = mse_loss + l2_penalty\n",
        "total_enet = mse_loss + enet_penalty\n",
        "\n",
        "print(\"MSE Loss: \",mse_loss)\n",
        "print(\"L1 Penalty: \",l1_penalty)\n",
        "print(\"L2 Penalty: \",l2_penalty)\n",
        "print(\"Elastic Net Penalty: \",enet_penalty)\n",
        "\n",
        "print(\"Total Loss with L1 Regularization: \",tl1)\n",
        "print(\"Total Loss with L2 Regularization: \",tl2)\n",
        "print(\"Total Loss with Elastic Net Regularization: \",total_enet)\n"
      ],
      "metadata": {
        "colab": {
          "base_uri": "https://localhost:8080/"
        },
        "id": "Q3Pl0LLAiB3e",
        "outputId": "96980861-89c4-4ec4-bf07-0a1b756db762"
      },
      "execution_count": 11,
      "outputs": [
        {
          "output_type": "stream",
          "name": "stdout",
          "text": [
            "MSE Loss:  0.125\n",
            "L1 Penalty:  1.0\n",
            "L2 Penalty:  0.125\n",
            "Elastic Net Penalty:  0.5625\n",
            "Total Loss with L1 Regularization:  1.125\n",
            "Total Loss with L2 Regularization:  0.25\n",
            "Total Loss with Elastic Net Regularization:  0.6875\n"
          ]
        }
      ]
    },
    {
      "cell_type": "code",
      "source": [],
      "metadata": {
        "id": "jdX4SSobi60d"
      },
      "execution_count": null,
      "outputs": []
    }
  ]
}